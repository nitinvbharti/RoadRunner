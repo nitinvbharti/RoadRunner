{
 "cells": [
  {
   "cell_type": "code",
   "execution_count": 1,
   "metadata": {},
   "outputs": [],
   "source": [
    "import json\n",
    "from enum import Enum\n",
    "from collections import namedtuple\n",
    "from ipynb.fs.full.Critical_Section import *\n",
    "import numpy as np"
   ]
  },
  {
   "cell_type": "code",
   "execution_count": 9,
   "metadata": {},
   "outputs": [],
   "source": [
    "class lock_event:\n",
    "    \n",
    "    def __init__(self,n_thr):\n",
    "        self.lock_clock = np.zeros(n_thr)\n",
    "        self.objects = {}\n",
    "\n",
    "class lock_map:\n",
    "    def __init__(self,init_vc):\n",
    "        self.lock_vc = init_vc\n",
    "        self.read_objects = {}\n",
    "        self.write_objects = {}\n",
    "    \n",
    "    def __str__(self):\n",
    "        return \"Main Clock : %s\\nObject Read Clocks : %s\\nWrite Clocks : %s\\n\" % (self.lock_vc,self.read_objects,self.write_objects)"
   ]
  },
  {
   "cell_type": "code",
   "execution_count": 60,
   "metadata": {},
   "outputs": [],
   "source": [
    "def vc_cp_ordered(vc1,vc2): # Checks if vc1 CPs vc2. Returns true if vc2 does not CP vc1\n",
    "    r = False\n",
    "    ct = 0\n",
    "    for i in range(len(vc1)):\n",
    "        if vc2[i] > vc1[i]:\n",
    "            return True\n",
    "        else:\n",
    "            ct+=1\n",
    "    return ct==len(vc1)\n",
    "\n",
    "def compare_vc_to_other_locks(evt,compare_map,v_vc,t_stk):\n",
    "    ret = False\n",
    "    for k in compare_map.keys():\n",
    "        if k == evt.var_name and len(t_stk) != 0 :\n",
    "#             print(\"Empty\",v_vc,compare_map[evt.var_name])\n",
    "            ret = ret or vc_cp_ordered(v_vc,compare_map[evt.var_name])\n",
    "        elif isinstance(compare_map[k],lock_map) and k not in t_stk:\n",
    "            if evt.e_type == events_list.Read.value and evt.var_name in compare_map[k].write_objects.keys():\n",
    "#                 print(\"Lock\",v_vc,compare_map[k].accessed_objects[v_name],t_stk,k)\n",
    "                ret = ret or vc_cp_ordered(v_vc,compare_map[k].write_objects[v_name])\n",
    "            elif evt.var_name in compare_map[k].write_objects.keys():\n",
    "                ret = ret or vc_cp_ordered(v_vc,compare_map[k].write_objects[v_name])\n",
    "            elif evt.var_name in compare_map[k].read_objects.keys():\n",
    "                ret = ret or vc_cp_ordered(v_vc,compare_map[k].read_objects[v_name])\n",
    "    return ret\n",
    "\n",
    "def add_current_vc(evt, l_map, t_vc, l_stk):\n",
    "#     if evt.var_name in l_map.keys():\n",
    "#         l_map[evt.var_name].append(t_vc)\n",
    "#     else:\n",
    "    if len(l_stk) == 0:\n",
    "        l_map[evt.var_name] = t_vc\n",
    "        print(evt.var_name,\" : \",l_map[evt.var_name])\n",
    "    else:\n",
    "        if evt.e_type == events_list.Read.value:\n",
    "            l_map.read_objects[evt.var_name] = t_vc\n",
    "        elif evt.e_type == events_list.Write.value:\n",
    "            l_map.write_objects[evt.var_name] = t_vc\n",
    "        print(l_stk[-1]+\" : \")\n",
    "        print(l_map)\n",
    "        \n",
    "def get_vc_var(v_name,t_vc,l_map,t_stk):\n",
    "    if len(t_stk) == 0:\n",
    "        return t_vc\n",
    "    else:\n",
    "        return l_map.lock_vc"
   ]
  },
  {
   "cell_type": "markdown",
   "metadata": {},
   "source": [
    "### Read the events from log"
   ]
  },
  {
   "cell_type": "code",
   "execution_count": 20,
   "metadata": {},
   "outputs": [
    {
     "name": "stdout",
     "output_type": "stream",
     "text": [
      "Thread : 1 \n",
      "Locks : set() \n",
      "Read Objects : {'phi_x'} \n",
      "Write Objects : set() \n",
      "Events : {0} \n",
      "Child Sections : set()\n",
      "\n",
      "Thread : 1 \n",
      "Locks : {'n'} \n",
      "Read Objects : {'xl'} \n",
      "Write Objects : {'yl'} \n",
      "Events : {1, 2, 3, 4} \n",
      "Child Sections : set()\n",
      "\n",
      "Thread : 2 \n",
      "Locks : {'n'} \n",
      "Read Objects : {'phi_x'} \n",
      "Write Objects : set() \n",
      "Events : {5, 6, 7} \n",
      "Child Sections : set()\n",
      "\n",
      "3 {'n': [1, 2]}\n"
     ]
    }
   ],
   "source": [
    "events, critical_section_list,num_threads,lock_access_list = gen_event_cs2(\"temp1.log\")\n",
    "for x in critical_section_list:\n",
    "    print(x)\n",
    "    \n",
    "print(num_threads,lock_access_list)"
   ]
  },
  {
   "cell_type": "code",
   "execution_count": 72,
   "metadata": {},
   "outputs": [],
   "source": [
    "def update_clocks_temp(t_map,main_map,e_idx,cs_idx_list):\n",
    "    for cs_idx in cs_idx_list:\n",
    "        if e_idx in critical_section_list[cs_idx].event_idx:\n",
    "            for x in critical_section_list[cs_idx].read_objects:\n",
    "                if x in main_map.read_objects.keys():\n",
    "                    t_map.read_objects[x] = main_map.read_objects[x]\n",
    "                else:\n",
    "                    t_map.read_objects[x] = t_map.lock_vc\n",
    "            for x in critical_section_list[cs_idx].write_objects:\n",
    "                if x in main_map.write_objects.keys():\n",
    "                    t_map.write_objects[x] = main_map.write_objects[x]\n",
    "                else:\n",
    "                    t_map.write_objects[x] = t_map.lock_vc\n",
    "                    \n",
    "def check_rule1():\n",
    "    pass\n",
    "\n",
    "def merge_maps(map_to,map_from):\n",
    "    for k in map_from.read_objects.keys():\n",
    "        map_to.read_objects[k] = map_from.read_objects[k]\n",
    "    for k in map_from.write_objects.keys():\n",
    "        map_to.write_objects[k] = map_from.write_objects[k]\n",
    "    map_to.lock_vc = map_from.lock_vc"
   ]
  },
  {
   "cell_type": "code",
   "execution_count": 75,
   "metadata": {},
   "outputs": [
    {
     "name": "stdout",
     "output_type": "stream",
     "text": [
      "Index :  0\n",
      "phi_x  :  [0. 0. 0.]\n",
      "Index :  1\n",
      "Index :  2\n",
      "n : \n",
      "Main Clock : [0. 0. 0.]\n",
      "Object Read Clocks : {'xl': array([0., 0., 0.])}\n",
      "Write Clocks : {}\n",
      "\n",
      "Index :  3\n",
      "n : \n",
      "Main Clock : [0. 0. 0.]\n",
      "Object Read Clocks : {'xl': array([0., 0., 0.])}\n",
      "Write Clocks : {'yl': array([0., 0., 0.])}\n",
      "\n",
      "Index :  4\n",
      "Index :  5\n",
      "Index :  6\n",
      "DR detected at event :  event_raw(vc_w='', vc_r='', vc='[(0:1) (1:2) (2:3)]', tid=2, e_type=0, var_name='phi_x')\n",
      "n : \n",
      "Main Clock : [0. 0. 0.]\n",
      "Object Read Clocks : {'phi_x': array([0., 0., 0.])}\n",
      "Write Clocks : {}\n",
      "\n",
      "Index :  7\n"
     ]
    }
   ],
   "source": [
    "thread_lock_stack = []\n",
    "thread_map_stack = []\n",
    "thread_vc = np.zeros((num_threads,num_threads))\n",
    "for i in range(num_threads):\n",
    "    thread_lock_stack.append([])\n",
    "    thread_map_stack.append([])\n",
    "evt_idx = 0\n",
    "super_locks_map = {}\n",
    "\n",
    "for e in events:\n",
    "    print(\"Index : \",evt_idx)\n",
    "    if e.e_type == events_list.Read.value or e.e_type == events_list.Write.value:\n",
    "        if len(thread_lock_stack[e.tid]) == 0:\n",
    "            var_vc = get_vc_var(e.var_name,thread_vc[e.tid],super_locks_map,thread_lock_stack[e.tid])\n",
    "            if compare_vc_to_other_locks(e,super_locks_map,var_vc,thread_lock_stack[e.tid]):\n",
    "                print(\"DR detected at event : \",e)\n",
    "            add_current_vc(e,super_locks_map,var_vc,thread_lock_stack[e.tid])\n",
    "        else:\n",
    "            temp_map = thread_map_stack[e.tid][-1]\n",
    "            var_vc = get_vc_var(e.var_name,thread_vc[e.tid],temp_map,thread_lock_stack[e.tid])\n",
    "            if compare_vc_to_other_locks(e,super_locks_map,var_vc,thread_lock_stack[e.tid]):\n",
    "                print(\"DR detected at event : \",e)\n",
    "            add_current_vc(e,temp_map,var_vc,thread_lock_stack[e.tid])\n",
    "            thread_map_stack[e.tid][-1] = temp_map\n",
    "    elif e.e_type == events_list.Acquire.value:\n",
    "        thread_lock_stack[e.tid].append(e.var_name)\n",
    "        if e.var_name not in super_locks_map.keys():\n",
    "              temp_map = lock_map(thread_vc[e.tid])#super_locks_map[e.var_name]\n",
    "        else:\n",
    "            temp_map = lock_map(super_locks_map[e.var_name].lock_vc)\n",
    "            update_clocks_temp(temp_map,super_locks_map[e.var_name],evt_idx,lock_access_list[e.var_name])\n",
    "        if len(thread_lock_stack[e.tid]) > 1:\n",
    "            if vc_cp_ordered(temp_map.lock_vc,super_locks_map[thread_lock_stack[e.tid][-2]]):\n",
    "                temp_map.lock_vc = super_locks_map[thread_lock_stack[e.tid][-2]]\n",
    "        check_rule1()\n",
    "        thread_map_stack[e.tid].append(temp_map)\n",
    "#         print(\"Temp Map : \")\n",
    "#         print(temp_map)\n",
    "    elif e.e_type == events_list.Release.value:\n",
    "        popped_lock = thread_lock_stack[e.tid].pop()\n",
    "        if popped_lock in super_locks_map:\n",
    "            merge_maps(super_locks_map[popped_lock],thread_map_stack[e.tid].pop())\n",
    "        else:\n",
    "            super_locks_map[popped_lock] = thread_map_stack[e.tid].pop()\n",
    "        \n",
    "        if len(thread_lock_stack[e.tid]) > 0:\n",
    "            merge_maps(thread_map_stack[e.tid],super_locks_map[popped_lock])\n",
    "        else:\n",
    "            thread_vc[e.tid] = super_locks_map[popped_lock].lock_vc\n",
    "    evt_idx+=1\n",
    "#     for k in super_locks_map.keys():\n",
    "#         print(k,\" : \",super_locks_map[k])"
   ]
  },
  {
   "cell_type": "code",
   "execution_count": 76,
   "metadata": {},
   "outputs": [
    {
     "name": "stdout",
     "output_type": "stream",
     "text": [
      "phi_x  :  [0. 0. 0.]\n",
      "n  :  Main Clock : [0. 0. 0.]\n",
      "Object Read Clocks : {'xl': array([0., 0., 0.]), 'phi_x': array([0., 0., 0.])}\n",
      "Write Clocks : {'yl': array([0., 0., 0.])}\n",
      "\n"
     ]
    }
   ],
   "source": [
    "for k in super_locks_map.keys():\n",
    "    print(k,\" : \",super_locks_map[k])"
   ]
  },
  {
   "cell_type": "code",
   "execution_count": null,
   "metadata": {},
   "outputs": [],
   "source": []
  }
 ],
 "metadata": {
  "kernelspec": {
   "display_name": "Python 3",
   "language": "python",
   "name": "python3"
  },
  "language_info": {
   "codemirror_mode": {
    "name": "ipython",
    "version": 3
   },
   "file_extension": ".py",
   "mimetype": "text/x-python",
   "name": "python",
   "nbconvert_exporter": "python",
   "pygments_lexer": "ipython3",
   "version": "3.7.0"
  }
 },
 "nbformat": 4,
 "nbformat_minor": 2
}

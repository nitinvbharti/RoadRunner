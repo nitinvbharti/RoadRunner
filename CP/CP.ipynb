{
 "cells": [
  {
   "cell_type": "code",
   "execution_count": 1,
   "metadata": {},
   "outputs": [],
   "source": [
    "import json\n",
    "from enum import Enum\n",
    "from collections import namedtuple\n",
    "from ipynb.fs.full.Critical_Section import *\n",
    "import numpy as np"
   ]
  },
  {
   "cell_type": "code",
   "execution_count": 2,
   "metadata": {},
   "outputs": [],
   "source": [
    "class lock_event:\n",
    "    \n",
    "    def __init__(self,n_thr):\n",
    "        self.lock_clock = np.zeros(n_thr)\n",
    "        self.objects = {}\n",
    "    \n",
    "    "
   ]
  },
  {
   "cell_type": "markdown",
   "metadata": {},
   "source": [
    "### Read the events from log"
   ]
  },
  {
   "cell_type": "code",
   "execution_count": 7,
   "metadata": {},
   "outputs": [
    {
     "name": "stdout",
     "output_type": "stream",
     "text": [
      "Thread : 1 \n",
      "Locks : set() \n",
      "Read Objects : {'phi_x'} \n",
      "Write Objects : set() \n",
      "Start : 0 \n",
      "End : 0 \n",
      "Child Sections :\n",
      "\n",
      "Thread : 1 \n",
      "Locks : set() \n",
      "Read Objects : {'phi_y'} \n",
      "Write Objects : set() \n",
      "Start : 1 \n",
      "End : 1 \n",
      "Child Sections :\n",
      "\n",
      "Thread : 1 \n",
      "Locks : {'m', 'l', 'n'} \n",
      "Read Objects : {'a', 'xl', 'x'} \n",
      "Write Objects : {'y', 'b', 'yl'} \n",
      "Start : 2 \n",
      "End : 17 \n",
      "Child Sections :\n",
      "Thread : 1 \n",
      "Locks : {'l', 'n'} \n",
      "Read Objects : {'xl', 'x'} \n",
      "Write Objects : {'y', 'yl'} \n",
      "Start : 5 \n",
      "End : 12 \n",
      "Child Sections :\n",
      "Thread : 1 \n",
      "Locks : {'n'} \n",
      "Read Objects : {'xl'} \n",
      "Write Objects : {'yl'} \n",
      "Start : 8 \n",
      "End : 11 \n",
      "Child Sections :\n",
      "Thread : 1 \n",
      "Locks : {'n'} \n",
      "Read Objects : {'xl'} \n",
      "Write Objects : {'yl'} \n",
      "Start : 13 \n",
      "End : 16 \n",
      "Child Sections :\n",
      "\n"
     ]
    }
   ],
   "source": [
    "events, critical_section_list,num_threads = gen_event_cs(\"temp.log\")\n",
    "for x in critical_section_list:\n",
    "    print(x)"
   ]
  },
  {
   "cell_type": "code",
   "execution_count": 8,
   "metadata": {},
   "outputs": [
    {
     "name": "stdout",
     "output_type": "stream",
     "text": [
      "2\n"
     ]
    }
   ],
   "source": [
    "thread_cp = {}"
   ]
  },
  {
   "cell_type": "code",
   "execution_count": null,
   "metadata": {},
   "outputs": [],
   "source": []
  }
 ],
 "metadata": {
  "kernelspec": {
   "display_name": "Python 3",
   "language": "python",
   "name": "python3"
  },
  "language_info": {
   "codemirror_mode": {
    "name": "ipython",
    "version": 3
   },
   "file_extension": ".py",
   "mimetype": "text/x-python",
   "name": "python",
   "nbconvert_exporter": "python",
   "pygments_lexer": "ipython3",
   "version": "3.7.0"
  }
 },
 "nbformat": 4,
 "nbformat_minor": 2
}

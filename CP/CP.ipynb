{
 "cells": [
  {
   "cell_type": "code",
   "execution_count": 1,
   "metadata": {},
   "outputs": [],
   "source": [
    "import json\n",
    "from enum import Enum\n",
    "from collections import namedtuple\n",
    "from ipynb.fs.full.Critical_Section import *\n",
    "import numpy as np"
   ]
  },
  {
   "cell_type": "code",
   "execution_count": 2,
   "metadata": {},
   "outputs": [],
   "source": [
    "class lock_event:\n",
    "    \n",
    "    def __init__(self,n_thr):\n",
    "        self.lock_clock = np.zeros(n_thr)\n",
    "        self.objects = {}\n",
    "    \n",
    "    "
   ]
  },
  {
   "cell_type": "markdown",
   "metadata": {},
   "source": [
    "### Read the events from log"
   ]
  },
  {
   "cell_type": "code",
   "execution_count": 5,
   "metadata": {},
   "outputs": [
    {
     "name": "stdout",
     "output_type": "stream",
     "text": [
      "Thread : 1 \n",
      "Locks : set() \n",
      "Read Objects : {'phi_x'} \n",
      "Write Objects : set() \n",
      "Events : {0} \n",
      "Child Sections : set()\n",
      "\n",
      "Thread : 1 \n",
      "Locks : set() \n",
      "Read Objects : {'phi_y'} \n",
      "Write Objects : set() \n",
      "Events : {1} \n",
      "Child Sections : set()\n",
      "\n",
      "Thread : 1 \n",
      "Locks : {'l', 'm', 'n'} \n",
      "Read Objects : {'xl', 'x', 'a'} \n",
      "Write Objects : {'yl', 'b', 'y'} \n",
      "Events : {2, 3, 4, 5, 6, 7, 8, 9, 10, 11, 12, 13, 14, 15, 16, 17} \n",
      "Child Sections : {3, 4, 5}\n",
      "\n",
      "Thread : 1 \n",
      "Locks : {'l', 'n'} \n",
      "Read Objects : {'xl', 'x'} \n",
      "Write Objects : {'yl', 'y'} \n",
      "Events : {5, 6, 7, 8, 9, 10, 11, 12} \n",
      "Child Sections : {4}\n",
      "\n",
      "Thread : 1 \n",
      "Locks : {'n'} \n",
      "Read Objects : {'xl'} \n",
      "Write Objects : {'yl'} \n",
      "Events : {8, 9, 10, 11} \n",
      "Child Sections : set()\n",
      "\n",
      "Thread : 1 \n",
      "Locks : {'n'} \n",
      "Read Objects : {'xl'} \n",
      "Write Objects : {'yl'} \n",
      "Events : {16, 13, 14, 15} \n",
      "Child Sections : set()\n",
      "\n"
     ]
    }
   ],
   "source": [
    "events, critical_section_list,num_threads,lock_map = gen_event_cs2(\"temp.log\")\n",
    "for x in critical_section_list:\n",
    "    print(x)\n",
    "    \n",
    "print(num_threads,lock_map)"
   ]
  },
  {
   "cell_type": "code",
   "execution_count": 6,
   "metadata": {},
   "outputs": [],
   "source": [
    "thread_cp = {}"
   ]
  },
  {
   "cell_type": "code",
   "execution_count": null,
   "metadata": {},
   "outputs": [],
   "source": []
  }
 ],
 "metadata": {
  "kernelspec": {
   "display_name": "Python 3",
   "language": "python",
   "name": "python3"
  },
  "language_info": {
   "codemirror_mode": {
    "name": "ipython",
    "version": 3
   },
   "file_extension": ".py",
   "mimetype": "text/x-python",
   "name": "python",
   "nbconvert_exporter": "python",
   "pygments_lexer": "ipython3",
   "version": "3.7.0"
  }
 },
 "nbformat": 4,
 "nbformat_minor": 2
}

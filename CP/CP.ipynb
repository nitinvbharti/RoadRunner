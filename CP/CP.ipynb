{
 "cells": [
  {
   "cell_type": "code",
   "execution_count": 18,
   "metadata": {},
   "outputs": [],
   "source": [
    "## %load CP_init.py\n",
    "# %%writefile CP_init.py"
   ]
  },
  {
   "cell_type": "code",
   "execution_count": 56,
   "metadata": {},
   "outputs": [],
   "source": [
    "import json\n",
    "from enum import Enum\n",
    "from collections import namedtuple\n"
   ]
  },
  {
   "cell_type": "code",
   "execution_count": 33,
   "metadata": {},
   "outputs": [],
   "source": [
    "class events_list(Enum): \n",
    "    Write = 1\n",
    "    Read = 2\n",
    "    Acquire = 3\n",
    "    Release = 4"
   ]
  },
  {
   "cell_type": "code",
   "execution_count": 22,
   "metadata": {},
   "outputs": [],
   "source": [
    "class program:\n",
    "    threads = 0\n",
    "    var = []\n",
    "    locks = []"
   ]
  },
  {
   "cell_type": "code",
   "execution_count": 23,
   "metadata": {},
   "outputs": [],
   "source": [
    "class critical_section:\n",
    "#     tid = -1\n",
    "    var = []\n",
    "    locks = []"
   ]
  },
  {
   "cell_type": "code",
   "execution_count": 26,
   "metadata": {},
   "outputs": [],
   "source": [
    "class CP_clock:\n",
    "    clock = []\n",
    "    \n",
    "class lock_event:\n",
    "    lock_clock = []\n",
    "    "
   ]
  },
  {
   "cell_type": "code",
   "execution_count": 76,
   "metadata": {},
   "outputs": [],
   "source": [
    "def _json_object_hook(d): \n",
    "    return namedtuple('event_raw', d.keys())(*d.values())\n",
    "\n",
    "def json2obj(data): \n",
    "    return json.loads(data, object_hook=_json_object_hook)\n",
    "\n",
    "class event_raw:\n",
    "    tid = -1\n",
    "    e_type = 0\n",
    "    var_name = \"\"\n",
    "    vc = []\n",
    "    vc_r = []\n",
    "    vc_w = []\n",
    "    \n",
    "    def toJSON(self):\n",
    "        return json.dumps(self, default=lambda o: o.__dict__, \n",
    "            sort_keys=True, indent=4)"
   ]
  },
  {
   "cell_type": "markdown",
   "metadata": {},
   "source": [
    "### Read the events from log"
   ]
  },
  {
   "cell_type": "code",
   "execution_count": 74,
   "metadata": {},
   "outputs": [],
   "source": [
    "temp = event_raw()\n",
    "temp.tid = 1\n",
    "temp.e_type = events_list.Read.value\n",
    "temp.var_name = \"alpha\"\n",
    "temp.vc = [0,1,0]\n",
    "temp.vc_r = [0,0,0]\n",
    "temp.vc_w = [0,1,0]\n",
    "t_json = temp.toJSON()"
   ]
  },
  {
   "cell_type": "code",
   "execution_count": 87,
   "metadata": {},
   "outputs": [],
   "source": [
    "read_val = event_raw()\n",
    "read_val = json2obj(t_json)"
   ]
  },
  {
   "cell_type": "code",
   "execution_count": null,
   "metadata": {},
   "outputs": [],
   "source": []
  }
 ],
 "metadata": {
  "kernelspec": {
   "display_name": "Python 3",
   "language": "python",
   "name": "python3"
  },
  "language_info": {
   "codemirror_mode": {
    "name": "ipython",
    "version": 3
   },
   "file_extension": ".py",
   "mimetype": "text/x-python",
   "name": "python",
   "nbconvert_exporter": "python",
   "pygments_lexer": "ipython3",
   "version": "3.7.0"
  }
 },
 "nbformat": 4,
 "nbformat_minor": 2
}

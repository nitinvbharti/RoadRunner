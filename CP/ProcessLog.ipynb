{
 "cells": [
  {
   "cell_type": "code",
   "execution_count": null,
   "metadata": {},
   "outputs": [],
   "source": [
    "import glob\n",
    "import numpy as np\n",
    "import pandas as pd\n",
    "from IPython.display import HTML, display\n"
   ]
  },
  {
   "cell_type": "code",
   "execution_count": null,
   "metadata": {},
   "outputs": [],
   "source": [
    "pd.set_option('display.max_columns', None)  \n",
    "pd.set_option('display.expand_frame_repr', False)\n",
    "pd.set_option('max_colwidth', -1) "
   ]
  },
  {
   "cell_type": "code",
   "execution_count": null,
   "metadata": {},
   "outputs": [],
   "source": [
    "def get_data_frame_of_events(events,n):\n",
    "    event_array = np.empty((len(events),n),dtype=object)\n",
    "    iter_count = 0\n",
    "    for e in events:\n",
    "        if e.e_type == 0:\n",
    "             var = \"r(\" +e.var_name+ \")\"\n",
    "        elif e.e_type == 1:\n",
    "             var = \"w(\" +e.var_name+ \")\"   \n",
    "        elif e.e_type == 2:\n",
    "              var = \"acq(\" +e.var_name+ \")\"\n",
    "        elif e.e_type == 3:\n",
    "             var = \"rel(\" +e.var_name+ \")\"\n",
    "        event_array[iter_count][e.tid] = var\n",
    "        iter_count = iter_count + 1\n",
    "    return pd.DataFrame(event_array)\n",
    "\n",
    "   \n",
    "def visualize_events(events,n):\n",
    "    data = get_data_frame_of_events(events,n)\n",
    "    display(HTML(data.to_html()))\n",
    "        "
   ]
  }
 ],
 "metadata": {
  "kernelspec": {
   "display_name": "Python 3",
   "language": "python",
   "name": "python3"
  },
  "language_info": {
   "codemirror_mode": {
    "name": "ipython",
    "version": 3
   },
   "file_extension": ".py",
   "mimetype": "text/x-python",
   "name": "python",
   "nbconvert_exporter": "python",
   "pygments_lexer": "ipython3",
   "version": "3.6.7"
  }
 },
 "nbformat": 4,
 "nbformat_minor": 2
}

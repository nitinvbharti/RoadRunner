{
 "cells": [
  {
   "cell_type": "code",
   "execution_count": 2,
   "metadata": {},
   "outputs": [],
   "source": [
    "from ipynb.fs.full.CPv1 import *\n"
   ]
  },
  {
   "cell_type": "code",
   "execution_count": 11,
   "metadata": {},
   "outputs": [
    {
     "name": "stdout",
     "output_type": "stream",
     "text": [
      "----------------------------------------------------------------------------------------------------\n",
      "Reading log file TestCases/TestCase1.log\n",
      "No Race\n",
      "----------------------------------------------------------------------------------------------------\n",
      "Reading log file TestCases/TestCase2.log\n",
      "Race on events: 0 1  Variable name:  phi_x\n",
      "----------------------------------------------------------------------------------------------------\n",
      "Reading log file TestCases/TestCase3.log\n",
      "No Race\n",
      "----------------------------------------------------------------------------------------------------\n",
      "Reading log file TestCases/TestCase4.log\n",
      "Race on events: 1 2  Variable name:  phi_x\n",
      "----------------------------------------------------------------------------------------------------\n",
      "Reading log file TestCases/TestCase5.log\n",
      "No Race\n",
      "----------------------------------------------------------------------------------------------------\n",
      "Reading log file TestCases/TestCase6.log\n",
      "Race on events: 1 4  Variable name:  phi_x\n",
      "----------------------------------------------------------------------------------------------------\n",
      "Reading log file TestCases/TestCase7.log\n",
      "Race on events: 0 5  Variable name:  phi_x\n"
     ]
    }
   ],
   "source": [
    "filenames = ['TestCases/TestCase1.log','TestCases/TestCase2.log','TestCases/TestCase3.log','TestCases/TestCase4.log','TestCases/TestCase5.log','TestCases/TestCase6.log',\n",
    "             'TestCases/TestCase7.log']\n",
    "for file in filenames:\n",
    "    CSv1(file)\n",
    "    "
   ]
  }
 ],
 "metadata": {
  "kernelspec": {
   "display_name": "Python 3",
   "language": "python",
   "name": "python3"
  },
  "language_info": {
   "codemirror_mode": {
    "name": "ipython",
    "version": 3
   },
   "file_extension": ".py",
   "mimetype": "text/x-python",
   "name": "python",
   "nbconvert_exporter": "python",
   "pygments_lexer": "ipython3",
   "version": "3.6.7"
  }
 },
 "nbformat": 4,
 "nbformat_minor": 2
}

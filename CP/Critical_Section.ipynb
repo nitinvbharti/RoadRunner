{
 "cells": [
  {
   "cell_type": "code",
   "execution_count": 1,
   "metadata": {},
   "outputs": [],
   "source": [
    "import json\n",
    "from enum import Enum\n",
    "from collections import namedtuple"
   ]
  },
  {
   "cell_type": "code",
   "execution_count": 20,
   "metadata": {},
   "outputs": [],
   "source": [
    "class events_list(Enum): \n",
    "    Write = 1\n",
    "    Read = 2\n",
    "    Acquire = 3\n",
    "    Release = 4"
   ]
  },
  {
   "cell_type": "code",
   "execution_count": 125,
   "metadata": {},
   "outputs": [],
   "source": [
    "def _json_object_hook(d): \n",
    "    return namedtuple('event_raw', d.keys())(*d.values())\n",
    "\n",
    "def json2obj(data): \n",
    "    return json.loads(data, object_hook=_json_object_hook)\n",
    "\n",
    "class event_raw:\n",
    "    def __init__(self):\n",
    "        self.tid = -1\n",
    "        self.e_type = 0\n",
    "        self.var_name = \"\"\n",
    "        self.vc = []\n",
    "        self.vc_r = []\n",
    "        self.vc_w = []"
   ]
  },
  {
   "cell_type": "code",
   "execution_count": 322,
   "metadata": {},
   "outputs": [],
   "source": [
    "class critical_section:\n",
    "    def __init__(self,thread_num):\n",
    "        self.locks = set()\n",
    "        self.objects = set()\n",
    "        self.child_sections = []\n",
    "        self.tid = thread_num\n",
    "\n",
    "    def __str__(self):\n",
    "        ret_str = \"Thread : %d \\nLocks : %s \\nObjects : %s \\nChild Sections :\\n\" % (self.tid,self.locks,self.objects)\n",
    "        for child_cs in self.child_sections:\n",
    "            ret_str= ret_str+str(child_cs)\n",
    "        return ret_str\n",
    "    \n",
    "    def clear_lists(self):\n",
    "        self.locks.clear()\n",
    "        self.objects.clear()\n",
    "        self.child_sections.clear()\n",
    "    \n",
    "    def create_child_Section(self,evt_obj,thrd_stk):\n",
    "        temp = self\n",
    "        size_stk = len(thrd_stk)\n",
    "        while size_stk-1 > 1:\n",
    "            if len(temp.child_sections) > 0:\n",
    "                temp.child_sections[-1].locks.add(evt_obj.var_name)\n",
    "                temp = temp.child_sections[-1]\n",
    "            size_stk=size_stk-1\n",
    "        temp.child_sections.append(critical_section(evt_obj.tid))\n",
    "        temp.child_sections[-1].locks.add(evt_obj.var_name)\n",
    "    \n",
    "    def operate_child(self,evt_obj,thrd_stk):\n",
    "        temp = self\n",
    "        size_stk = len(thrd_stk)\n",
    "        while size_stk-1 > 0:\n",
    "            temp = temp.child_sections[-1]\n",
    "            size_stk=size_stk-1\n",
    "            temp.objects.add(evt_obj.var_name)"
   ]
  },
  {
   "cell_type": "code",
   "execution_count": 323,
   "metadata": {},
   "outputs": [],
   "source": [
    "# event_log_raw = open(\"../Figure1.log\")\n",
    "event_log_raw = open(\"temp.log\")\n",
    "event_log = json.loads(event_log_raw.read())"
   ]
  },
  {
   "cell_type": "code",
   "execution_count": 324,
   "metadata": {},
   "outputs": [],
   "source": [
    "events = []\n",
    "for line in event_log:\n",
    "    events.append(json2obj(json.dumps(line)))"
   ]
  },
  {
   "cell_type": "code",
   "execution_count": 329,
   "metadata": {},
   "outputs": [
    {
     "name": "stdout",
     "output_type": "stream",
     "text": [
      "Starting new critial section : \n",
      "Thread : 1 \n",
      "Locks : {'l', 'n', 'm'} \n",
      "Objects : {'xl', 'x', 'b', 'a', 'y', 'yl'} \n",
      "Child Sections :\n",
      "Thread : 1 \n",
      "Locks : {'l', 'n'} \n",
      "Objects : {'xl', 'x', 'yl', 'y'} \n",
      "Child Sections :\n",
      "Thread : 1 \n",
      "Locks : {'n'} \n",
      "Objects : {'xl', 'yl'} \n",
      "Child Sections :\n",
      "Thread : 1 \n",
      "Locks : {'n'} \n",
      "Objects : {'xl', 'yl'} \n",
      "Child Sections :\n",
      "\n"
     ]
    }
   ],
   "source": [
    "thread_cs = []\n",
    "critical_section_list = []\n",
    "thread_lock_stack = []\n",
    "\n",
    "for x in events:\n",
    "    if(len(thread_cs)<x.tid):\n",
    "        while(len(thread_cs)!=x.tid):\n",
    "            thread_cs.append(None)\n",
    "            thread_lock_stack.append([])\n",
    "    \n",
    "    if thread_cs[x.tid-1]==None: # Start of new crititcal section\n",
    "        print(\"Starting new critial section : \")\n",
    "        thread_cs[x.tid-1] = critical_section(x.tid)\n",
    "        thread_cs[x.tid-1].clear_lists()\n",
    "        if x.e_type == events_list.Read.value or x.e_type == events_list.Write.value:\n",
    "            thread_cs[x.tid-1].objects.add(x.var_name)\n",
    "        elif x.e_type == events_list.Acquire.value:\n",
    "            thread_cs[x.tid-1].locks.add(x.var_name)\n",
    "            thread_lock_stack[x.tid-1].append(x.var_name)\n",
    "    else:\n",
    "        if x.e_type == events_list.Read.value or x.e_type == events_list.Write.value:\n",
    "            if len(thread_lock_stack[x.tid-1]) > 1:\n",
    "                thread_cs[x.tid-1].operate_child(x,thread_lock_stack[x.tid-1])\n",
    "            thread_cs[x.tid-1].objects.add(x.var_name)\n",
    "        elif x.e_type == events_list.Acquire.value:\n",
    "            if thread_lock_stack[x.tid-1][-1] != x.var_name:\n",
    "                thread_lock_stack[x.tid-1].append(x.var_name)\n",
    "                thread_cs[x.tid-1].create_child_Section(x,thread_lock_stack[x.tid-1])\n",
    "            thread_cs[x.tid-1].locks.add(x.var_name)\n",
    "        elif x.e_type == events_list.Release.value:\n",
    "            if len(thread_lock_stack[x.tid-1]) == 1:\n",
    "                print(thread_cs[x.tid-1])\n",
    "                critical_section_list.append(thread_cs[x.tid-1])\n",
    "                thread_cs[x.tid-1] = None\n",
    "            # Note: Optimistic assumption, top of the lock is same\n",
    "            if thread_lock_stack[x.tid-1][-1] == x.var_name:\n",
    "#                 print(\"Lock Stack before pop : \"+str(thread_lock_stack[x.tid-1])+\"\\n\")\n",
    "                thread_lock_stack[x.tid-1].pop()\n",
    "#     print(thread_cs[x.tid-1])"
   ]
  },
  {
   "cell_type": "code",
   "execution_count": 330,
   "metadata": {},
   "outputs": [
    {
     "name": "stdout",
     "output_type": "stream",
     "text": [
      "Thread : 1 \n",
      "Locks : {'l', 'n', 'm'} \n",
      "Objects : {'xl', 'x', 'b', 'a', 'y', 'yl'} \n",
      "Child Sections :\n",
      "Thread : 1 \n",
      "Locks : {'l', 'n'} \n",
      "Objects : {'xl', 'x', 'yl', 'y'} \n",
      "Child Sections :\n",
      "Thread : 1 \n",
      "Locks : {'n'} \n",
      "Objects : {'xl', 'yl'} \n",
      "Child Sections :\n",
      "Thread : 1 \n",
      "Locks : {'n'} \n",
      "Objects : {'xl', 'yl'} \n",
      "Child Sections :\n",
      "\n"
     ]
    }
   ],
   "source": [
    "for cs in critical_section_list:\n",
    "    print(cs)"
   ]
  },
  {
   "cell_type": "code",
   "execution_count": null,
   "metadata": {},
   "outputs": [],
   "source": []
  }
 ],
 "metadata": {
  "kernelspec": {
   "display_name": "Python 3",
   "language": "python",
   "name": "python3"
  },
  "language_info": {
   "codemirror_mode": {
    "name": "ipython",
    "version": 3
   },
   "file_extension": ".py",
   "mimetype": "text/x-python",
   "name": "python",
   "nbconvert_exporter": "python",
   "pygments_lexer": "ipython3",
   "version": "3.7.0"
  }
 },
 "nbformat": 4,
 "nbformat_minor": 2
}
